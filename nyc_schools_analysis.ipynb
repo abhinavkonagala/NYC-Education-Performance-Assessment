{
 "cells": [
  {
   "cell_type": "code",
   "execution_count": null,
   "id": "98d487b1-1c6e-4786-a661-9b782cfa80f9",
   "metadata": {},
   "outputs": [],
   "source": [
    "# NYC Public Schools SAT Performance Analysis"
   ]
  },
  {
   "cell_type": "code",
   "execution_count": 15,
   "id": "f356c49b-c3cf-475f-a1a9-1dc4a9776084",
   "metadata": {},
   "outputs": [],
   "source": [
    "# Import libraries\n",
    "import pandas as pd"
   ]
  },
  {
   "cell_type": "code",
   "execution_count": 16,
   "id": "0b484ca9-2b39-4829-89ec-924d443454e0",
   "metadata": {},
   "outputs": [],
   "source": [
    "# Load data\n",
    "schools = pd.read_csv(r\"C:\\Users\\Abhin\\OneDrive\\Documents\\[01] Projects\\Portfolio projects\\NYC-Education-Performance-Assessment\\schools.csv\")"
   ]
  },
  {
   "cell_type": "code",
   "execution_count": 18,
   "id": "1f0f0b46-bc83-4790-b533-102bb0220550",
   "metadata": {},
   "outputs": [
    {
     "data": {
      "text/html": [
       "<div>\n",
       "<style scoped>\n",
       "    .dataframe tbody tr th:only-of-type {\n",
       "        vertical-align: middle;\n",
       "    }\n",
       "\n",
       "    .dataframe tbody tr th {\n",
       "        vertical-align: top;\n",
       "    }\n",
       "\n",
       "    .dataframe thead th {\n",
       "        text-align: right;\n",
       "    }\n",
       "</style>\n",
       "<table border=\"1\" class=\"dataframe\">\n",
       "  <thead>\n",
       "    <tr style=\"text-align: right;\">\n",
       "      <th></th>\n",
       "      <th>school_name</th>\n",
       "      <th>borough</th>\n",
       "      <th>building_code</th>\n",
       "      <th>average_math</th>\n",
       "      <th>average_reading</th>\n",
       "      <th>average_writing</th>\n",
       "      <th>percent_tested</th>\n",
       "    </tr>\n",
       "  </thead>\n",
       "  <tbody>\n",
       "    <tr>\n",
       "      <th>0</th>\n",
       "      <td>New Explorations into Science, Technology and ...</td>\n",
       "      <td>Manhattan</td>\n",
       "      <td>M022</td>\n",
       "      <td>657</td>\n",
       "      <td>601</td>\n",
       "      <td>601</td>\n",
       "      <td>NaN</td>\n",
       "    </tr>\n",
       "    <tr>\n",
       "      <th>1</th>\n",
       "      <td>Essex Street Academy</td>\n",
       "      <td>Manhattan</td>\n",
       "      <td>M445</td>\n",
       "      <td>395</td>\n",
       "      <td>411</td>\n",
       "      <td>387</td>\n",
       "      <td>78.9</td>\n",
       "    </tr>\n",
       "    <tr>\n",
       "      <th>2</th>\n",
       "      <td>Lower Manhattan Arts Academy</td>\n",
       "      <td>Manhattan</td>\n",
       "      <td>M445</td>\n",
       "      <td>418</td>\n",
       "      <td>428</td>\n",
       "      <td>415</td>\n",
       "      <td>65.1</td>\n",
       "    </tr>\n",
       "    <tr>\n",
       "      <th>3</th>\n",
       "      <td>High School for Dual Language and Asian Studies</td>\n",
       "      <td>Manhattan</td>\n",
       "      <td>M445</td>\n",
       "      <td>613</td>\n",
       "      <td>453</td>\n",
       "      <td>463</td>\n",
       "      <td>95.9</td>\n",
       "    </tr>\n",
       "    <tr>\n",
       "      <th>4</th>\n",
       "      <td>Henry Street School for International Studies</td>\n",
       "      <td>Manhattan</td>\n",
       "      <td>M056</td>\n",
       "      <td>410</td>\n",
       "      <td>406</td>\n",
       "      <td>381</td>\n",
       "      <td>59.7</td>\n",
       "    </tr>\n",
       "  </tbody>\n",
       "</table>\n",
       "</div>"
      ],
      "text/plain": [
       "                                         school_name    borough building_code  \\\n",
       "0  New Explorations into Science, Technology and ...  Manhattan          M022   \n",
       "1                               Essex Street Academy  Manhattan          M445   \n",
       "2                       Lower Manhattan Arts Academy  Manhattan          M445   \n",
       "3    High School for Dual Language and Asian Studies  Manhattan          M445   \n",
       "4      Henry Street School for International Studies  Manhattan          M056   \n",
       "\n",
       "   average_math  average_reading  average_writing  percent_tested  \n",
       "0           657              601              601             NaN  \n",
       "1           395              411              387            78.9  \n",
       "2           418              428              415            65.1  \n",
       "3           613              453              463            95.9  \n",
       "4           410              406              381            59.7  "
      ]
     },
     "execution_count": 18,
     "metadata": {},
     "output_type": "execute_result"
    }
   ],
   "source": [
    "# Explore dataset\n",
    "schools.head()"
   ]
  },
  {
   "cell_type": "code",
   "execution_count": 19,
   "id": "3eddb2f0-e07f-4ed2-b3c6-8daad5eba7af",
   "metadata": {},
   "outputs": [
    {
     "name": "stdout",
     "output_type": "stream",
     "text": [
      "\n",
      "Dataset Structure:\n",
      "<class 'pandas.core.frame.DataFrame'>\n",
      "RangeIndex: 375 entries, 0 to 374\n",
      "Data columns (total 7 columns):\n",
      " #   Column           Non-Null Count  Dtype  \n",
      "---  ------           --------------  -----  \n",
      " 0   school_name      375 non-null    object \n",
      " 1   borough          375 non-null    object \n",
      " 2   building_code    375 non-null    object \n",
      " 3   average_math     375 non-null    int64  \n",
      " 4   average_reading  375 non-null    int64  \n",
      " 5   average_writing  375 non-null    int64  \n",
      " 6   percent_tested   355 non-null    float64\n",
      "dtypes: float64(1), int64(3), object(3)\n",
      "memory usage: 20.6+ KB\n"
     ]
    }
   ],
   "source": [
    "# Display dataset structure\n",
    "print(\"\\nDataset Structure:\")\n",
    "schools.info()"
   ]
  },
  {
   "cell_type": "code",
   "execution_count": 20,
   "id": "c53b66de-a7d3-4b24-a183-e9adaad108d0",
   "metadata": {},
   "outputs": [
    {
     "name": "stdout",
     "output_type": "stream",
     "text": [
      "\n",
      "SAT Performance Statistics:\n"
     ]
    },
    {
     "data": {
      "text/html": [
       "<div>\n",
       "<style scoped>\n",
       "    .dataframe tbody tr th:only-of-type {\n",
       "        vertical-align: middle;\n",
       "    }\n",
       "\n",
       "    .dataframe tbody tr th {\n",
       "        vertical-align: top;\n",
       "    }\n",
       "\n",
       "    .dataframe thead th {\n",
       "        text-align: right;\n",
       "    }\n",
       "</style>\n",
       "<table border=\"1\" class=\"dataframe\">\n",
       "  <thead>\n",
       "    <tr style=\"text-align: right;\">\n",
       "      <th></th>\n",
       "      <th>average_math</th>\n",
       "      <th>average_reading</th>\n",
       "      <th>average_writing</th>\n",
       "      <th>percent_tested</th>\n",
       "    </tr>\n",
       "  </thead>\n",
       "  <tbody>\n",
       "    <tr>\n",
       "      <th>count</th>\n",
       "      <td>375.000000</td>\n",
       "      <td>375.000000</td>\n",
       "      <td>375.000000</td>\n",
       "      <td>355.000000</td>\n",
       "    </tr>\n",
       "    <tr>\n",
       "      <th>mean</th>\n",
       "      <td>432.944000</td>\n",
       "      <td>424.504000</td>\n",
       "      <td>418.458667</td>\n",
       "      <td>64.976338</td>\n",
       "    </tr>\n",
       "    <tr>\n",
       "      <th>std</th>\n",
       "      <td>71.952373</td>\n",
       "      <td>61.881069</td>\n",
       "      <td>64.548599</td>\n",
       "      <td>18.747634</td>\n",
       "    </tr>\n",
       "    <tr>\n",
       "      <th>min</th>\n",
       "      <td>317.000000</td>\n",
       "      <td>302.000000</td>\n",
       "      <td>284.000000</td>\n",
       "      <td>18.500000</td>\n",
       "    </tr>\n",
       "    <tr>\n",
       "      <th>25%</th>\n",
       "      <td>386.000000</td>\n",
       "      <td>386.000000</td>\n",
       "      <td>382.000000</td>\n",
       "      <td>50.950000</td>\n",
       "    </tr>\n",
       "    <tr>\n",
       "      <th>50%</th>\n",
       "      <td>415.000000</td>\n",
       "      <td>413.000000</td>\n",
       "      <td>403.000000</td>\n",
       "      <td>64.800000</td>\n",
       "    </tr>\n",
       "    <tr>\n",
       "      <th>75%</th>\n",
       "      <td>458.500000</td>\n",
       "      <td>445.000000</td>\n",
       "      <td>437.500000</td>\n",
       "      <td>79.600000</td>\n",
       "    </tr>\n",
       "    <tr>\n",
       "      <th>max</th>\n",
       "      <td>754.000000</td>\n",
       "      <td>697.000000</td>\n",
       "      <td>693.000000</td>\n",
       "      <td>100.000000</td>\n",
       "    </tr>\n",
       "  </tbody>\n",
       "</table>\n",
       "</div>"
      ],
      "text/plain": [
       "       average_math  average_reading  average_writing  percent_tested\n",
       "count    375.000000       375.000000       375.000000      355.000000\n",
       "mean     432.944000       424.504000       418.458667       64.976338\n",
       "std       71.952373        61.881069        64.548599       18.747634\n",
       "min      317.000000       302.000000       284.000000       18.500000\n",
       "25%      386.000000       386.000000       382.000000       50.950000\n",
       "50%      415.000000       413.000000       403.000000       64.800000\n",
       "75%      458.500000       445.000000       437.500000       79.600000\n",
       "max      754.000000       697.000000       693.000000      100.000000"
      ]
     },
     "execution_count": 20,
     "metadata": {},
     "output_type": "execute_result"
    }
   ],
   "source": [
    "# Statistical summary of SAT performance\n",
    "print(\"\\nSAT Performance Statistics:\")\n",
    "schools.describe()"
   ]
  },
  {
   "cell_type": "code",
   "execution_count": null,
   "id": "274ae779-6c5f-4cd3-9160-b125e8a9636b",
   "metadata": {},
   "outputs": [],
   "source": [
    "## Question 1: Which NYC schools have the best math results?\n",
    "# Best results are at least 80% of the max possible score of 800 for math\n",
    "\n",
    "best_math_schools = schools[schools['average_math'] >= 640][['school_name','average_math']].sort_values('average_math', ascending=False)\n",
    "print(\"Schools with math excellence (640+ points):\")\n",
    "print(best_math_schools)"
   ]
  }
 ],
 "metadata": {
  "editor": "DataLab",
  "kernelspec": {
   "display_name": "Python [conda env:base] *",
   "language": "python",
   "name": "conda-base-py"
  },
  "language_info": {
   "codemirror_mode": {
    "name": "ipython",
    "version": 3
   },
   "file_extension": ".py",
   "mimetype": "text/x-python",
   "name": "python",
   "nbconvert_exporter": "python",
   "pygments_lexer": "ipython3",
   "version": "3.13.5"
  }
 },
 "nbformat": 4,
 "nbformat_minor": 5
}
